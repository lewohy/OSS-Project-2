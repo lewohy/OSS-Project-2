{
 "cells": [
  {
   "cell_type": "code",
   "execution_count": 1,
   "metadata": {},
   "outputs": [],
   "source": [
    "#!sudo apt install -y curl unzip"
   ]
  },
  {
   "cell_type": "markdown",
   "metadata": {},
   "source": [
    "# 오픈소스SW개론 과제 2"
   ]
  },
  {
   "cell_type": "code",
   "execution_count": 2,
   "metadata": {},
   "outputs": [
    {
     "name": "stdout",
     "output_type": "stream",
     "text": [
      "Retrieving notices: ...working... done\n",
      "Collecting package metadata (current_repodata.json): done\n",
      "Solving environment: done\n",
      "\n",
      "\n",
      "==> WARNING: A newer version of conda exists. <==\n",
      "  current version: 23.9.0\n",
      "  latest version: 24.5.0\n",
      "\n",
      "Please update conda by running\n",
      "\n",
      "    $ conda update -n base -c defaults conda\n",
      "\n",
      "Or to minimize the number of packages updated during conda update use\n",
      "\n",
      "     conda install conda=24.5.0\n",
      "\n",
      "\n",
      "\n",
      "## Package Plan ##\n",
      "\n",
      "  environment location: /home/lewohy/miniconda3\n",
      "\n",
      "  added / updated specs:\n",
      "    - matplotlib\n",
      "    - numpy\n",
      "    - pandas\n",
      "    - scikit-learn\n",
      "    - scipy\n",
      "\n",
      "\n",
      "The following packages will be downloaded:\n",
      "\n",
      "    package                    |            build\n",
      "    ---------------------------|-----------------\n",
      "    pandas-2.2.2               |  py311ha02d727_0        15.7 MB\n",
      "    ------------------------------------------------------------\n",
      "                                           Total:        15.7 MB\n",
      "\n",
      "The following packages will be UPDATED:\n",
      "\n",
      "  pandas                              2.2.1-py311ha02d727_0 --> 2.2.2-py311ha02d727_0 \n",
      "\n",
      "\n",
      "\n",
      "Downloading and Extracting Packages:\n",
      "                                                                                \n",
      "Preparing transaction: done\n",
      "Verifying transaction: done\n",
      "Executing transaction: done\n",
      "\n",
      "Note: you may need to restart the kernel to use updated packages.\n"
     ]
    }
   ],
   "source": [
    "%conda install numpy pandas matplotlib scikit-learn scipy -y"
   ]
  },
  {
   "cell_type": "markdown",
   "metadata": {},
   "source": [
    "## 1. 데이터 준비\n"
   ]
  },
  {
   "cell_type": "markdown",
   "metadata": {},
   "source": [
    "### 1.1. ml-1m.zip 다운로드\n"
   ]
  },
  {
   "cell_type": "code",
   "execution_count": 3,
   "metadata": {},
   "outputs": [
    {
     "name": "stdout",
     "output_type": "stream",
     "text": [
      "  % Total    % Received % Xferd  Average Speed   Time    Time     Time  Current\n",
      "                                 Dload  Upload   Total   Spent    Left  Speed\n",
      "  0     0    0     0    0     0      0      0 --:--:-- --:--:-- --:--:--     0"
     ]
    },
    {
     "name": "stdout",
     "output_type": "stream",
     "text": [
      "100 5778k  100 5778k    0     0   169k      0  0:00:34  0:00:34 --:--:--  271k\n"
     ]
    }
   ],
   "source": [
    "!curl -SLJ https://files.grouplens.org/datasets/movielens/ml-1m.zip --output /tmp/ml-1m.zip"
   ]
  },
  {
   "cell_type": "markdown",
   "metadata": {},
   "source": [
    "### 1.2. ml-1m.zip 압축 해제\n"
   ]
  },
  {
   "cell_type": "code",
   "execution_count": 4,
   "metadata": {},
   "outputs": [
    {
     "name": "stdout",
     "output_type": "stream",
     "text": [
      "Archive:  /tmp/ml-1m.zip\n",
      "  inflating: /tmp/ml-1m/ratings.dat  \n"
     ]
    }
   ],
   "source": [
    "!unzip -o /tmp/ml-1m.zip ml-1m/ratings.dat -d /tmp"
   ]
  },
  {
   "cell_type": "code",
   "execution_count": 5,
   "metadata": {},
   "outputs": [
    {
     "name": "stdout",
     "output_type": "stream",
     "text": [
      "total 24020\n",
      "-rw-r----- 1 lewohy lewohy 24594131 Mar  1  2003 ratings.dat\n"
     ]
    }
   ],
   "source": [
    "!ls -l /tmp/ml-1m"
   ]
  },
  {
   "cell_type": "markdown",
   "metadata": {},
   "source": [
    "## 2. Group Recommender System 구현"
   ]
  },
  {
   "cell_type": "markdown",
   "metadata": {},
   "source": [
    "### 2.1 Clustering"
   ]
  },
  {
   "cell_type": "code",
   "execution_count": 6,
   "metadata": {},
   "outputs": [],
   "source": [
    "import numpy as np\n",
    "import pandas as pd\n",
    "from sklearn.cluster import KMeans\n",
    "\n",
    "ratings = pd.read_csv(\n",
    "    \"/tmp/ml-1m/ratings.dat\",\n",
    "    sep=\"::\",\n",
    "    header=None,\n",
    "    engine=\"python\",\n",
    "    names=[\"UserID\", \"MovieID\", \"Rating\", \"Timestamp\"],\n",
    ")\n",
    "\n",
    "user_item_matrix = (\n",
    "    ratings.pivot(index=\"UserID\", columns=\"MovieID\", values=\"Rating\")\n",
    "    .fillna(0)\n",
    "    .values\n",
    ")\n",
    "\n",
    "\n",
    "def rank_with_argsort(arr):\n",
    "    order = arr.argsort()\n",
    "    ranks = order.argsort() + 1  # 1부터 시작하도록 +1\n",
    "    return ranks\n"
   ]
  },
  {
   "cell_type": "markdown",
   "metadata": {},
   "source": [
    "#### 2.1.1. Matrix 생성\n"
   ]
  },
  {
   "cell_type": "code",
   "execution_count": 7,
   "metadata": {},
   "outputs": [],
   "source": [
    "kmeans = KMeans(n_clusters=3, random_state=1)\n",
    "user_groups = kmeans.fit_predict(user_item_matrix)"
   ]
  },
  {
   "cell_type": "markdown",
   "metadata": {},
   "source": [
    "### 2.2. Aggregation"
   ]
  },
  {
   "cell_type": "code",
   "execution_count": 8,
   "metadata": {},
   "outputs": [],
   "source": [
    "def aggregation(user_item_matrix, user_groups, aggregation_func):\n",
    "    for group_id in set(user_groups):\n",
    "        group_ratings = user_item_matrix[user_groups == group_id]\n",
    "        recommendations = aggregation_func(group_ratings)\n",
    "        top_10_recommendations = np.argsort(recommendations)[-10:]\n",
    "        print(top_10_recommendations)"
   ]
  },
  {
   "cell_type": "markdown",
   "metadata": {},
   "source": [
    "#### 2.2.1. Additive Utilitarian"
   ]
  },
  {
   "cell_type": "code",
   "execution_count": 9,
   "metadata": {},
   "outputs": [
    {
     "name": "stdout",
     "output_type": "stream",
     "text": [
      "[1178  579  575 1848 1120 2651 1108 2374  253 1106]\n",
      "[1107 2374  802  287  579  593 1178 1108 1106  253]\n",
      "[ 106 2203  513  579 2557 1106 1848 1120  253 2651]\n"
     ]
    }
   ],
   "source": [
    "def additive_utilitarian(group_ratings):\n",
    "    return np.sum(group_ratings, axis=0)\n",
    "\n",
    "aggregation(user_item_matrix, user_groups, additive_utilitarian)\n"
   ]
  },
  {
   "cell_type": "markdown",
   "metadata": {},
   "source": [
    "#### 2.2.2. Average"
   ]
  },
  {
   "cell_type": "code",
   "execution_count": 10,
   "metadata": {},
   "outputs": [
    {
     "name": "stdout",
     "output_type": "stream",
     "text": [
      "[1178  579  575 1848 1120 2651 1108 2374  253 1106]\n",
      "[1107 2374  802  287  579  593 1178 1108 1106  253]\n",
      "[ 106 2203  513  579 2557 1106 1848 1120  253 2651]\n"
     ]
    }
   ],
   "source": [
    "def average(group_ratings):\n",
    "    return np.mean(group_ratings, axis=0)\n",
    "\n",
    "aggregation(user_item_matrix, user_groups, average)"
   ]
  },
  {
   "cell_type": "markdown",
   "metadata": {},
   "source": [
    "#### 2.2.3. Simple Count"
   ]
  },
  {
   "cell_type": "code",
   "execution_count": 12,
   "metadata": {},
   "outputs": [
    {
     "name": "stdout",
     "output_type": "stream",
     "text": [
      "[1178 1108  466 1449 2651  575 1120 2374  253 1106]\n",
      "[ 466  575 1108 2511 1025 1120 1449 1178  253 1106]\n",
      "[2785 2203 2557  466  579 1848 1106 1120  253 2651]\n"
     ]
    }
   ],
   "source": [
    "def simple_count(group_ratings):\n",
    "    return np.count_nonzero(group_ratings, axis=0)\n",
    "\n",
    "aggregation(user_item_matrix, user_groups, simple_count)"
   ]
  },
  {
   "cell_type": "markdown",
   "metadata": {},
   "source": [
    "#### 2.2.4. Approval Voting"
   ]
  },
  {
   "cell_type": "code",
   "execution_count": 13,
   "metadata": {},
   "outputs": [
    {
     "name": "stdout",
     "output_type": "stream",
     "text": [
      "[2557 1120  575  579 1848 2651 2374 1108  253 1106]\n",
      "[2374  287 2651 1178  593  802  579 1108 1106  253]\n",
      "[ 593 2203 1120  513 1106  579 2557 1848  253 2651]\n"
     ]
    }
   ],
   "source": [
    "def approval_voting(group_ratings):\n",
    "    return np.sum(group_ratings >= 4, axis=0)\n",
    "\n",
    "aggregation(user_item_matrix, user_groups, approval_voting)"
   ]
  },
  {
   "cell_type": "markdown",
   "metadata": {},
   "source": [
    "#### 2.2.5. Borda Count"
   ]
  },
  {
   "cell_type": "code",
   "execution_count": 11,
   "metadata": {},
   "outputs": [
    {
     "name": "stdout",
     "output_type": "stream",
     "text": [
      "[1848  466 1449 1108  575 2651 1120 2374  253 1106]\n",
      "[2511  579  287 1025 1120  593 1108 1178  253 1106]\n",
      "[2785  466 2203 2557  579 1848 1106 1120  253 2651]\n"
     ]
    }
   ],
   "source": [
    "from scipy.stats import rankdata\n",
    "\n",
    "\n",
    "def board_approval(group_ratings):\n",
    "    return np.sum(\n",
    "        np.apply_along_axis(\n",
    "            lambda x: rankdata(x, method=\"average\"),\n",
    "            axis=1,\n",
    "            arr=group_ratings,\n",
    "        ),\n",
    "        axis=0,\n",
    "    )\n",
    "\n",
    "\n",
    "aggregation(user_item_matrix, user_groups, board_approval)"
   ]
  },
  {
   "cell_type": "markdown",
   "metadata": {},
   "source": [
    "#### 2.2.6. Copeland Rule"
   ]
  },
  {
   "cell_type": "code",
   "execution_count": 15,
   "metadata": {},
   "outputs": [
    {
     "name": "stdout",
     "output_type": "stream",
     "text": [
      "[[0. 0. 0. ... 0. 0. 0.]\n",
      " [0. 0. 0. ... 0. 0. 0.]\n",
      " [0. 0. 0. ... 0. 0. 0.]\n",
      " ...\n",
      " [4. 0. 1. ... 0. 0. 0.]\n",
      " [0. 0. 0. ... 0. 0. 0.]\n",
      " [3. 0. 0. ... 0. 0. 0.]]\n",
      "[]\n",
      "[[5. 5. 0. ... 0. 0. 0.]\n",
      " [5. 0. 0. ... 0. 0. 5.]\n",
      " [4. 3. 0. ... 0. 0. 0.]\n",
      " ...\n",
      " [3. 3. 3. ... 0. 0. 0.]\n",
      " [4. 0. 2. ... 0. 0. 0.]\n",
      " [0. 0. 0. ... 0. 0. 0.]]\n",
      "[]\n",
      "[[5. 0. 0. ... 0. 0. 0.]\n",
      " [0. 0. 0. ... 0. 0. 0.]\n",
      " [0. 0. 0. ... 0. 0. 0.]\n",
      " ...\n",
      " [0. 0. 0. ... 0. 0. 0.]\n",
      " [0. 0. 0. ... 0. 0. 0.]\n",
      " [0. 0. 0. ... 0. 0. 0.]]\n",
      "[]\n"
     ]
    }
   ],
   "source": [
    "def copeland_rule(group_ratings):\n",
    "    result = np.zeros(group_ratings.shape)\n",
    "    matrix = np.array(group_ratings)\n",
    "    \n",
    "    for row in range(matrix.shape[0]):\n",
    "        for column in range(matrix.shape[1]):\n",
    "            result[row, column] = np.sum(matrix[row] > matrix[row, column]) - np.sum(matrix[row] < matrix[row, column])\n",
    "\n",
    "    return result.sum(axis=0)\n",
    "\n",
    "aggregation(user_item_matrix, user_groups, copeland_rule)"
   ]
  }
 ],
 "metadata": {
  "kernelspec": {
   "display_name": "Python 3 (ipykernel)",
   "language": "python",
   "name": "python3"
  }
 },
 "nbformat": 4,
 "nbformat_minor": 2
}
